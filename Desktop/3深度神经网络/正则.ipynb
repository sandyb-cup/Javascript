{
 "cells": [
  {
   "cell_type": "code",
   "execution_count": 1,
   "metadata": {
    "ExecuteTime": {
     "end_time": "2020-09-26T09:55:45.946833Z",
     "start_time": "2020-09-26T09:55:45.625438Z"
    }
   },
   "outputs": [],
   "source": [
    "import numpy as np\n",
    "import h5py\n",
    "import matplotlib.pyplot as plt\n",
    "from testCases import *\n",
    "from dnn_utils import *\n",
    "\n",
    "# 设置一些图画的相关参数\n",
    "%matplotlib inline\n",
    "\n",
    "# 图像的大小\n",
    "plt.rcParams[\"figure.figsize\"] = (5.0, 4.0)\n",
    "# 图像位置\n",
    "plt.rcParams['image.interpolation'] = 'nearset'\n",
    "# 图像颜色\n",
    "plt.rcParams['image.cmap'] = 'gray'\n",
    "\n",
    "# 设置随机函数\n",
    "np.random.seed(1)\n",
    "\n"
   ]
  },
  {
   "cell_type": "code",
   "execution_count": 2,
   "metadata": {
    "ExecuteTime": {
     "end_time": "2020-09-26T09:55:45.975506Z",
     "start_time": "2020-09-26T09:55:45.948773Z"
    }
   },
   "outputs": [
    {
     "name": "stdout",
     "output_type": "stream",
     "text": [
      "train_x_orig.shape (209, 64, 64, 3)\n",
      "train_y_orig.shape (1, 209)\n",
      "test_x_orig.shape (50, 64, 64, 3)\n",
      "test_y_orig.shape (1, 50)\n",
      "classes [b'non-cat' b'cat']\n"
     ]
    }
   ],
   "source": [
    "train_x_orig, train_y_orig, test_x_orig, test_y_orig,classes = load_data()\n",
    "print('train_x_orig.shape',train_x_orig.shape)\n",
    "print('train_y_orig.shape',train_y_orig.shape)\n",
    "print('test_x_orig.shape',test_x_orig.shape)\n",
    "print('test_y_orig.shape',test_y_orig.shape)\n",
    "print('classes', classes)\n",
    "\n",
    "train_x = train_x_orig.reshape(train_x_orig.shape[0],-1).T/255\n",
    "train_y = train_y_orig\n",
    "\n",
    "test_x = test_x_orig.reshape(test_x_orig.shape[0],-1).T/255\n",
    "test_y = test_y_orig \n"
   ]
  },
  {
   "cell_type": "code",
   "execution_count": 3,
   "metadata": {
    "ExecuteTime": {
     "end_time": "2020-09-26T09:55:45.984236Z",
     "start_time": "2020-09-26T09:55:45.979029Z"
    }
   },
   "outputs": [],
   "source": [
    "def initialize(dim_info): # 初始化函数 初始化W b的值\n",
    "\n",
    "    np.random.seed(1)\n",
    "    # dim_info 是一个列表里面包含了每一层的神经元的个数 比如说dim_info=[12288, 10, 7, 1]\n",
    "    # 第一层的神经元个数是 10， 第二层神经元个数是：7 ，输出层的神经元个数是：1\n",
    "    parameters = {} # 创建储存字典parameters\n",
    "    \n",
    "    dim_len = len(dim_info) # 得出有多少层神经网络\n",
    "    \n",
    "    # 开始有for循环来初始化参数 举例w[i,for i range(1,len(dim_info)),i-1]\n",
    "    # 得出w1 = (? , 12288) \n",
    "    # 得出的b的维度是:b(?, 1)\n",
    "    # 各个层的维度信息:\n",
    "    # z = (w * x) + b\n",
    "    # w * x = (?, temp_num)\n",
    "    # b = (?, 1)\n",
    "    # z = (?, temp_num)\n",
    "    # a = sidmoid(z)\n",
    "     \n",
    "    # 用for循环来随机初始化w，b\n",
    "    for l in range(1, dim_len):\n",
    "        parameters['W'+ str(l)] = np.random.randn(dim_info[l], dim_info[l-1]) *np.sqrt(2/dim_info[l-1])\n",
    "        # 防止梯度爆炸使w的值更小一些 除以前面神经元个数的开方\n",
    "        parameters['b'+ str(l)] = np.zeros((dim_info[l],1))\n",
    "        \n",
    "    return parameters\n"
   ]
  },
  {
   "cell_type": "code",
   "execution_count": 4,
   "metadata": {
    "ExecuteTime": {
     "end_time": "2020-09-26T09:55:46.002733Z",
     "start_time": "2020-09-26T09:55:45.986347Z"
    }
   },
   "outputs": [
    {
     "name": "stdout",
     "output_type": "stream",
     "text": [
      "(30, 12288)\n",
      "(30, 1)\n",
      "(8, 30)\n",
      "(8, 1)\n"
     ]
    }
   ],
   "source": [
    "dim_info = [12288, 30, 8, 6, 1]\n",
    "parameters = initialize(dim_info)\n",
    "print(parameters['W1'].shape)\n",
    "print(parameters['b1'].shape)\n",
    "print(parameters['W2'].shape)\n",
    "print(parameters['b2'].shape)"
   ]
  },
  {
   "cell_type": "code",
   "execution_count": 5,
   "metadata": {
    "ExecuteTime": {
     "end_time": "2020-09-26T09:55:46.008307Z",
     "start_time": "2020-09-26T09:55:46.004911Z"
    }
   },
   "outputs": [],
   "source": [
    "def line_forward(A, W, b):\n",
    "\n",
    "    Z = np.dot(W, A)+b\n",
    "    \n",
    "    assert W.shape[1] == A.shape[0]\n",
    "    \n",
    "    assert b.shape == (W.shape[0],1)\n",
    "    \n",
    "    \n",
    "    forward_Z_parameters = (A, W, b)\n",
    "    \n",
    "    \n",
    "    return Z, forward_Z_parameters\n"
   ]
  },
  {
   "cell_type": "code",
   "execution_count": 6,
   "metadata": {
    "ExecuteTime": {
     "end_time": "2020-09-26T09:55:46.014411Z",
     "start_time": "2020-09-26T09:55:46.010282Z"
    }
   },
   "outputs": [],
   "source": [
    "# 前向传播激活函数层 选择激活函数\n",
    "def line_activate(A_prev, W, b, activation):\n",
    "    # \n",
    "    \n",
    "    Z, forward_Z_parameters_cache = line_forward(A_prev, W, b) # 前向传播公式\n",
    "    # forwars_Z_parameters_cache中包含了这一层的a,w,b 参数\n",
    "    # cache 向前传播的返回的w,a_prev,b值\n",
    "    \n",
    "    if activation == 'sigmoid':\n",
    "        A = sigmoid(Z) \n",
    "        \n",
    "        # 激活函数这里不要被上面的a混淆了 这里的A是本层计算出来的激活值\n",
    "        \n",
    "    else: \n",
    "        activation == 'relu'\n",
    "        A = relu(Z)\n",
    "        \n",
    "    forward_activate_parameters_Z = (forward_Z_parameters_cache, Z)\n",
    "    \n",
    "    \n",
    "    # 储存本层所用到的计算参数 W，a-1，b,跟计算出来的逻辑回归值 z\n",
    "    # 这些参数在反向传播中用得到\n",
    "    # 反向传播时要用到的参数 z在激活函数的偏导数是要用到，\n",
    "    # w 在计算z的偏导数时候要用到\n",
    "    # a 在计算w的偏导数是要用到\n",
    "    # b 在计算b的偏导数是要用到\n",
    "    \n",
    "    return A, forward_activate_parameters_Z, \n"
   ]
  },
  {
   "cell_type": "code",
   "execution_count": 7,
   "metadata": {
    "ExecuteTime": {
     "end_time": "2020-09-26T09:55:46.020777Z",
     "start_time": "2020-09-26T09:55:46.015921Z"
    }
   },
   "outputs": [],
   "source": [
    "def line_model(X, parameters):\n",
    "    # 构造成整一个的前向传播函数\n",
    "    # parameters 这个参数包含了每一层的w， b 也就是每一层的w，b\n",
    "    # print(\"parameters['w1']\",parameters['w1'].shape)\n",
    "    froward_model_cache = []\n",
    "    \n",
    "    A = X \n",
    "    \n",
    "    layer_deep = len(parameters)//2\n",
    "    # print('layer_deep',layer_deep)\n",
    "    \n",
    "    # 神经层数会等于是parameters除以二取整数 因为里面包含的是w，b参数\n",
    "    \n",
    "    for i in range(1,layer_deep):\n",
    "        A_prev = A\n",
    "        # 前面的layer_deep - 1 层用sigmoid激活函数\n",
    "        \n",
    "        A, forward_activate_parameters_Z = line_activate(A_prev, parameters['W'+str(i)], parameters['b'+str(i)], activation = 'rule')\n",
    "        \n",
    "        # 注意这个看得到的A是这一步算出来的A 值 而cache里面包含的A_prev是上一步的a\n",
    "        \n",
    "        # 这里在后面的反向传播中不要弄混了\n",
    "        \n",
    "        # 这个循环不包括最后一层的前向传播 这前面的前向传播激活函数是sigmod\n",
    "        \n",
    "        # 进行数据的储存也就是这一层所用到的参数 W,a-1,b,z \n",
    "        \n",
    "        froward_model_cache.append(forward_activate_parameters_Z)\n",
    "    \n",
    "    # print('A_shape.shape',A.shape)\n",
    "    \n",
    "    # print('w4',parameters['w4'].shape)\n",
    "    \n",
    "    Al, forward_activate_parameters_Z = line_activate(A, parameters['W'+str(layer_deep)],parameters['b'+str(layer_deep)], activation = 'sigmoid')\n",
    "    \n",
    "    # 进行最后一层的向前传播\n",
    "    \n",
    "    froward_model_cache.append(forward_activate_parameters_Z) \n",
    "    \n",
    "    # 储存上一步的w,a,b 这里的上一步是针对于最后一步来说的也就是用sigmoid激活函数那一层\n",
    "    \n",
    "    # cache 里面包含 w,b,a等参数 用于反向传播 前一步的w，b, a 最后的一步al才是最后面的sigmoid函数计算出来的值\n",
    "    \n",
    "    # print('ilne_model_Al.shape',Al.shape)\n",
    "    \n",
    "    return Al,  froward_model_cache\n",
    "    \n",
    "    \n",
    "    \n",
    "          "
   ]
  },
  {
   "cell_type": "code",
   "execution_count": 8,
   "metadata": {
    "ExecuteTime": {
     "end_time": "2020-09-26T09:55:46.027178Z",
     "start_time": "2020-09-26T09:55:46.023495Z"
    }
   },
   "outputs": [
    {
     "name": "stdout",
     "output_type": "stream",
     "text": [
      "Al[[0.17007265 0.2524272 ]]\n",
      "Length of caches list=2\n"
     ]
    }
   ],
   "source": [
    "X, parameters = L_model_forward_test_case()\n",
    "Al, caches = line_model(X, parameters)\n",
    "print('Al'+str(Al))\n",
    "print('Length of caches list='+str(len(caches)))\n"
   ]
  },
  {
   "cell_type": "code",
   "execution_count": 9,
   "metadata": {
    "ExecuteTime": {
     "end_time": "2020-09-26T09:55:46.032455Z",
     "start_time": "2020-09-26T09:55:46.029259Z"
    }
   },
   "outputs": [],
   "source": [
    "def computer_cost(al, y):\n",
    "    \n",
    "    # 去样本值进行后面的求值计算\n",
    "\n",
    "    m = y.shape[1]\n",
    "\n",
    "    cost = (-1/m) * np.sum(np.multiply(y, np.log(al)) + np.multiply(1 - y,np.log(1-al))) \n",
    "\n",
    "    # cost = np.squeeze(cost) \n",
    "    # 对cost进行去维度化\n",
    "    # print('computer_cost.shape', cost.shape)\n",
    "    \n",
    "    \n",
    "    return cost\n",
    "\n",
    "                           "
   ]
  },
  {
   "cell_type": "markdown",
   "metadata": {},
   "source": [
    "<span class=\"burk\"># cost加上正则</span>"
   ]
  },
  {
   "cell_type": "code",
   "execution_count": 10,
   "metadata": {
    "ExecuteTime": {
     "end_time": "2020-09-26T09:55:46.039376Z",
     "start_time": "2020-09-26T09:55:46.033871Z"
    }
   },
   "outputs": [],
   "source": [
    "def cost_L2_tail(cost, forward_parameters, lambda_num, m):\n",
    "    \n",
    "    parameters = {}\n",
    "    \n",
    "    arr = np.array(forward_parameters) # 将正向传播参数矩阵化\n",
    "    \n",
    "    L = arr.shape[0] # 提取网络层数\n",
    "    \n",
    "    for l in range(L):\n",
    "        parameters[\"W\"+str(l+1)] = arr[l][0][1] # 进行正向传播单个参数进行提取 \n",
    "    \n",
    "        parameters[\"b\"+str(l+1)] = arr[l][0][2] # 与上面同理\n",
    "    \n",
    "    L2 = 0\n",
    "    \n",
    "    for L in range(L): # 对正向传播参数W进行平方计算\n",
    "        L2 += np.sum(np.square(parameters[\"W\"+str(L+1)]))\n",
    "        \n",
    "    L2_regulariztion_cost = lambda_num * L2 / (2 * m) + cost # cost加上L2正则运算\n",
    "\n",
    "    return L2_regulariztion_cost, parameters\n",
    "    "
   ]
  },
  {
   "cell_type": "code",
   "execution_count": 11,
   "metadata": {
    "ExecuteTime": {
     "end_time": "2020-09-26T09:55:46.044614Z",
     "start_time": "2020-09-26T09:55:46.040797Z"
    }
   },
   "outputs": [],
   "source": [
    "def back_forward(dz, forward_Z_parameters):\n",
    "    \n",
    "    \n",
    "    a_prev, w, b = forward_Z_parameters \n",
    "    \n",
    "    m = a_prev.shape[1]\n",
    "    # 这一层样本数 \n",
    "    \n",
    "    # dz 最后一层的损失dz梯度\n",
    "    # cache 前向传播时保存下来的参数值 分别是a,w,b\n",
    "    \n",
    "    # dz.shape(1, 209)\n",
    "    # a.shape(12288, 209)\n",
    "    # 这个a在输入层的话就是x所以他的维度信息就可以得出来就是 (12288, 209)\n",
    "    # 在反向传播中进行倒置 与dz相乘得到dw.shape(1, 12288)\n",
    "    \n",
    "    dW = np.dot(dz, forward_Z_parameters[0].T)/m \n",
    "    # dz = (1,209),a_prev.shape(1,1)\n",
    "    # dw.shape(1, 209)\n",
    "    \n",
    "    db = np.sum(dz, axis = 1, keepdims=True)/m \n",
    "    # 以列为轴将每一行的数据进行相加\n",
    "    \n",
    "    dA = np.dot(forward_Z_parameters[1].T, dz)\n",
    "    # da (a的偏导数等于w*dz)\n",
    "    # w.shape(1, 209)\n",
    "    # dz.shape(1, 209)\n",
    "    # da.shape(1,1)\n",
    "    \n",
    "    return dA, dW, db\n",
    "\n",
    "    \n"
   ]
  },
  {
   "cell_type": "code",
   "execution_count": 12,
   "metadata": {
    "ExecuteTime": {
     "end_time": "2020-09-26T09:55:46.050860Z",
     "start_time": "2020-09-26T09:55:46.046774Z"
    }
   },
   "outputs": [],
   "source": [
    "def line_activation_backward(dA, forward_model_cache, activation):\n",
    "    \"\"\"\n",
    "    da 这一层的da也就是最后一层da值\n",
    "    cache = 向前传播时这一层的相关变量\n",
    "    activation  指示该层使用什么激活函数 \"sigmoid\"或者是\"relu\"\n",
    "    \n",
    "    \"\"\"\n",
    "    linear_caches, activation_cache = forward_model_cache\n",
    "    # da,dw,db,Z\n",
    "    if activation == 'relu':\n",
    "        dz = relu_backward(dA, activation_cache)\n",
    "        # 上一步的dz等于这一步的dz乘以上一步的da\n",
    "        # 这一层的dz会等于al的偏导数乘以a的偏导数\n",
    "    elif activation =='sigmoid': \n",
    "#         sigmoid偏导数等于a(1-a)\n",
    "#         tanh偏导数等于1-a*a\n",
    "        dz = sigmoid_backward(dA, activation_cache)\n",
    "    \n",
    "    # 根据这一层的dz算出这一层的dw，db以及前一层的da\n",
    "    da_prev, dw, db = back_forward(dz, linear_caches)\n",
    "    \n",
    "    return da_prev, dw, db\n",
    "        "
   ]
  },
  {
   "cell_type": "code",
   "execution_count": 13,
   "metadata": {
    "ExecuteTime": {
     "end_time": "2020-09-26T09:55:46.058609Z",
     "start_time": "2020-09-26T09:55:46.052244Z"
    }
   },
   "outputs": [],
   "source": [
    "# 下面构建出整个反向传播公式\n",
    "def line_model_backward(Al, y, forward_model_cache):\n",
    "    # al 最后一层的al值也就是预测值 cache是每一层储存相关参数\n",
    "    \n",
    "    # print(\"line_model_backward-foward_model_cache\", forward_model_cache)\n",
    "    \n",
    "    grades = {}\n",
    "    \n",
    "    l = len(forward_model_cache)\n",
    "    \n",
    "    m = y.shape[1]\n",
    "    # print('line_model_backward_m',m)\n",
    "    \n",
    "    y = y.reshape(Al.shape) # 使真实标签与预测值标签的维度保持一样方便后面的dal计算\n",
    "        \n",
    "    dal = -(np.divide(y,Al) - np.divide(1-y, 1-Al))\n",
    "    \n",
    "    # 计算最后一层的dw, db 因为最后一层使用的是sigmoid，可以直接算出dw跟db的值\n",
    "    \n",
    "    last_layer_parameters = forward_model_cache[-1]\n",
    "    \n",
    "    grades['dA'+str(l-1)], grades['dW'+str(l)], grades['db'+str(l)] = line_activation_backward(dal, last_layer_parameters, activation='sigmoid')\n",
    "    \n",
    "    # grades['dW'+str(l)] = grades[\"dW\"+str(l)] +\n",
    "    \n",
    "    # 这个revered函数会将循环的数进行倒置\n",
    "    \n",
    "    for i in reversed(range(1,l)):\n",
    "        grades['dA'+str(i - 1)], grades['dW'+str(i)],grades['db'+str(i)] = line_activation_backward(grades[\"dA\"+str(i)],\n",
    "                                                                                               forward_model_cache[i-1],\n",
    "                                                                                              activation = 'relu')\n",
    "        \n",
    "        # 这个for循环不会包含l的值所以这里计算的偏导数也就不包含最后一步的偏导数\n",
    "    return grades\n",
    "                                     \n",
    "    \n",
    "    "
   ]
  },
  {
   "cell_type": "markdown",
   "metadata": {
    "ExecuteTime": {
     "end_time": "2020-09-25T09:40:09.385409Z",
     "start_time": "2020-09-25T09:40:09.380007Z"
    }
   },
   "source": [
    "<span class=\"burk\">正则化的反向传播公式</span>"
   ]
  },
  {
   "cell_type": "code",
   "execution_count": 14,
   "metadata": {
    "ExecuteTime": {
     "end_time": "2020-09-26T09:55:46.068565Z",
     "start_time": "2020-09-26T09:55:46.061105Z"
    }
   },
   "outputs": [],
   "source": [
    "def backer_forward_L2(Al, y, forward_model_cache, forward_parameters, lambda_num = 0.7):\n",
    "    \n",
    "    grades = {}\n",
    "    \n",
    "    l = len(forward_model_cache)\n",
    "    \n",
    "    m = y.shape[1]\n",
    "    # print('line_model_backward_m',m)\n",
    "    \n",
    "    y = y.reshape(Al.shape) # 使真实标签与预测值标签的维度保持一样方便后面的dal计算\n",
    "        \n",
    "    dal = -(np.divide(y,Al) - np.divide(1-y, 1-Al))\n",
    "    \n",
    "    # 计算最后一层的dw, db 因为最后一层使用的是sigmoid，可以直接算出dw跟db的值\n",
    "    \n",
    "    last_layer_parameters = forward_model_cache[-1]\n",
    "    \n",
    "    grades['dA'+str(l-1)], grades['dW'+str(l)], grades['db'+str(l)] = line_activation_backward(dal, last_layer_parameters, activation='sigmoid')\n",
    "    \n",
    "    grades['dW'+str(l)] = grades[\"dW\"+str(l)] + lambda_num * forward_parameters[\"W\"+str(l)] / m\n",
    "    # 这个revered函数会将循环的数进行倒置\n",
    "    \n",
    "    for i in reversed(range(1,l)):\n",
    "        grades['dA'+str(i - 1)], grades['dW'+str(i)],grades['db'+str(i)] = line_activation_backward(grades[\"dA\"+str(i)],\n",
    "                                                                                               forward_model_cache[i-1],\n",
    "                                                                                             activation = 'relu')\n",
    "        \n",
    "        \n",
    "        grades[\"dW\"+str(i - 1)] = grades['dW'+str(i)] + lambda_num * forward_parameters['W'+str(i)] / m\n",
    "        \n",
    "        # 这个for循环不会包含l的值所以这里计算的偏导数也就不包含最后一步的偏导数\n",
    "    return grades\n",
    "                                     \n",
    "    \n",
    "    "
   ]
  },
  {
   "cell_type": "code",
   "execution_count": 15,
   "metadata": {
    "ExecuteTime": {
     "end_time": "2020-09-26T09:55:46.084368Z",
     "start_time": "2020-09-26T09:55:46.080103Z"
    }
   },
   "outputs": [
    {
     "name": "stdout",
     "output_type": "stream",
     "text": [
      "dW1 [[0.41010002 0.07807203 0.13798444 0.10502167]\n",
      " [0.         0.         0.         0.        ]\n",
      " [0.05283652 0.01005865 0.01777766 0.0135308 ]]\n",
      "db1 [[-0.22007063]\n",
      " [ 0.        ]\n",
      " [-0.02835349]]\n",
      "dA1 [[ 0.12913162 -0.44014127]\n",
      " [-0.14175655  0.48317296]\n",
      " [ 0.01663708 -0.05670698]]\n"
     ]
    }
   ],
   "source": [
    "Al, Y_assess, caches = L_model_backward_test_case()\n",
    "grads = line_model_backward(Al, Y_assess, caches)\n",
    "print('dW1',grads['dW1'])\n",
    "print('db1',grads['db1'])\n",
    "print('dA1',grads['dA1'])\n"
   ]
  },
  {
   "cell_type": "code",
   "execution_count": 16,
   "metadata": {
    "ExecuteTime": {
     "end_time": "2020-09-26T09:55:46.107101Z",
     "start_time": "2020-09-26T09:55:46.103270Z"
    }
   },
   "outputs": [],
   "source": [
    "def updata_parameters(parameters, grads, learning_rate):\n",
    "    \n",
    "    L = len(parameters)//2\n",
    "    \n",
    "    for i in range(1,L+1):\n",
    "        parameters['W'+str(i)] = parameters['W' + str(i)] - grads['dW'+str(i)]*learning_rate\n",
    "        \n",
    "        parameters['b'+str(i)] = parameters['b' + str(i)] - grads['db'+str(i)]*learning_rate\n",
    "        \n",
    "    return parameters\n"
   ]
  },
  {
   "cell_type": "code",
   "execution_count": 17,
   "metadata": {
    "ExecuteTime": {
     "end_time": "2020-09-26T09:55:46.144525Z",
     "start_time": "2020-09-26T09:55:46.137830Z"
    }
   },
   "outputs": [],
   "source": [
    "def dnn_model(x, y, dim_info, learning_rate=0.0075, num_iterations=100, print_cost= True, lambda_num=0 ):\n",
    "    \n",
    "    np.random.seed(1)\n",
    "    costs = []\n",
    "    m = y.shape[1]\n",
    "    \n",
    "    parameters = initialize(dim_info)\n",
    "    \n",
    "    for i in range(0,num_iterations):\n",
    "        Al, forward_model_cache = line_model(x, parameters) # 向前传播的函数 // 这个向前传播函数放进cost函数当中 所以这一个函数在这里没用调用\n",
    "        \n",
    "        cost = computer_cost(Al, y) # 进行成本计算 # 因为后面把line_model函数放进了computer_cost函数当中所以computer_cost函数增加了两个参数值 (x，parametes)\n",
    "        # //~~ 去除Al参数因为在内部已经调用\n",
    "        \n",
    "        cost_L2, parameters_cost_L2 = cost_L2_tail(cost, forward_model_cache, lambda_num, m) # L2 的正向传播函数\n",
    "        \n",
    "        # grades = line_model_backward(Al, y, forward_model_cache) # 进行反向传播\n",
    "        \n",
    "        grades = backer_forward_L2(Al, y, forward_model_cache, parameters_cost_L2, lambda_num ) # 加正则化之后的反向传播公式\n",
    "        \n",
    "        parameters = updata_parameters(parameters, grades, learning_rate)\n",
    "        \n",
    "        \n",
    "        # if i % 100 == 0:\n",
    "            # if print_cost and i > 0:\n",
    "                # print('训练%i次后的成本是: %f'%(i, cost))\n",
    "            # costs.append(cost)\n",
    "            \n",
    "        if i % 100 ==0:\n",
    "            if print_cost and i > 0:\n",
    "                print(\"训练%i次后的成本是: %f\"%(i, cost_L2))\n",
    "            costs.append(cost_L2)\n",
    "    \n",
    "    plt.plot(np.squeeze(costs))\n",
    "    plt.ylabel('cost')\n",
    "    plt.xlabel('iterations(per tens)')\n",
    "    plt.title('Learning rate ='+str(learning_rate))\n",
    "\n",
    "    plt.show()\n",
    "        \n",
    "    return parameters\n",
    "    \n",
    "        \n",
    "        "
   ]
  },
  {
   "cell_type": "code",
   "execution_count": 18,
   "metadata": {
    "ExecuteTime": {
     "end_time": "2020-09-26T09:56:40.414632Z",
     "start_time": "2020-09-26T09:55:46.161925Z"
    }
   },
   "outputs": [
    {
     "name": "stderr",
     "output_type": "stream",
     "text": [
      "/Users/sandy/.local/lib/python3.7/site-packages/ipykernel_launcher.py:5: VisibleDeprecationWarning: Creating an ndarray from ragged nested sequences (which is a list-or-tuple of lists-or-tuples-or ndarrays with different lengths or shapes) is deprecated. If you meant to do this, you must specify 'dtype=object' when creating the ndarray\n",
      "  \"\"\"\n"
     ]
    },
    {
     "name": "stdout",
     "output_type": "stream",
     "text": [
      "训练100次后的成本是: 1.086615\n",
      "训练200次后的成本是: 1.018343\n",
      "训练300次后的成本是: 0.948026\n",
      "训练400次后的成本是: 0.870058\n",
      "训练500次后的成本是: 0.827412\n",
      "训练600次后的成本是: 0.770008\n",
      "训练700次后的成本是: 0.734844\n",
      "训练800次后的成本是: 0.702187\n",
      "训练900次后的成本是: 0.700292\n",
      "训练1000次后的成本是: 0.663659\n",
      "训练1100次后的成本是: 0.646769\n",
      "训练1200次后的成本是: 0.633778\n",
      "训练1300次后的成本是: 0.623236\n",
      "训练1400次后的成本是: 0.614396\n",
      "训练1500次后的成本是: 0.606683\n",
      "训练1600次后的成本是: 0.599542\n",
      "训练1700次后的成本是: 0.600706\n",
      "训练1800次后的成本是: 0.588388\n",
      "训练1900次后的成本是: 0.583287\n",
      "训练2000次后的成本是: 0.577305\n",
      "训练2100次后的成本是: 0.572726\n",
      "训练2200次后的成本是: 0.567231\n",
      "训练2300次后的成本是: 0.563922\n",
      "训练2400次后的成本是: 0.560817\n",
      "训练2500次后的成本是: 0.557738\n",
      "训练2600次后的成本是: 0.555588\n",
      "训练2700次后的成本是: 0.553116\n",
      "训练2800次后的成本是: 0.551158\n",
      "训练2900次后的成本是: 0.548861\n"
     ]
    },
    {
     "data": {
      "image/png": "[encoded data removed]",
      "text/plain": [
       "<Figure size 360x288 with 1 Axes>"
      ]
     },
     "metadata": {
      "needs_background": "light"
     },
     "output_type": "display_data"
    }
   ],
   "source": [
    "dim_info = [12288, 30, 8, 6, 1]\n",
    "#dim_info = [12288, 100, 20, 10, 1]\n",
    "\n",
    "\n",
    "parameters = dnn_model(train_x, train_y, dim_info, learning_rate=0.0075, num_iterations = 3000, print_cost = True, lambda_num = 2)\n"
   ]
  },
  {
   "cell_type": "code",
   "execution_count": 19,
   "metadata": {
    "ExecuteTime": {
     "end_time": "2020-09-26T09:56:40.423624Z",
     "start_time": "2020-09-26T09:56:40.417599Z"
    }
   },
   "outputs": [],
   "source": [
    "def predict(X,parameters):   \n",
    "    m = X.shape[1]\n",
    "    n = len(parameters) // 2 # number of layers in the neural network\n",
    "    p = np.zeros((1,m))\n",
    "    \n",
    "    # 进行一次前向传播，得到预测结果\n",
    "    probas, caches = line_model(X, parameters)\n",
    "   \n",
    "    # 将预测结果转化成0和1的形式，即大于0.5的就是1，否则就是0\n",
    "    for i in range(0, probas.shape[1]):\n",
    "        if probas[0,i] > 0.5:\n",
    "            p[0,i] = 1\n",
    "        else:\n",
    "            p[0,i] = 0\n",
    "        \n",
    "    return p"
   ]
  },
  {
   "cell_type": "code",
   "execution_count": 20,
   "metadata": {
    "ExecuteTime": {
     "end_time": "2020-09-26T09:56:40.438241Z",
     "start_time": "2020-09-26T09:56:40.427872Z"
    }
   },
   "outputs": [
    {
     "name": "stdout",
     "output_type": "stream",
     "text": [
      "预测准确率是:0.9952153110047844\n"
     ]
    }
   ],
   "source": [
    "pred_train = predict(train_x, parameters)\n",
    "\n",
    "print('预测准确率是:'+ str(np.sum((pred_train == train_y) / train_x.shape[1])))"
   ]
  },
  {
   "cell_type": "code",
   "execution_count": 21,
   "metadata": {
    "ExecuteTime": {
     "end_time": "2020-09-26T09:56:40.451408Z",
     "start_time": "2020-09-26T09:56:40.441236Z"
    }
   },
   "outputs": [
    {
     "name": "stdout",
     "output_type": "stream",
     "text": [
      "测试集的准确率是:0.8200000000000001\n"
     ]
    }
   ],
   "source": [
    "pred_test = predict(test_x, parameters)\n",
    "print(\"测试集的准确率是:\"+str(np.sum((pred_test == test_y) / test_x.shape[1])))\n"
   ]
  },
  {
   "cell_type": "code",
   "execution_count": 22,
   "metadata": {
    "ExecuteTime": {
     "end_time": "2020-09-26T09:56:40.458217Z",
     "start_time": "2020-09-26T09:56:40.454209Z"
    }
   },
   "outputs": [],
   "source": [
    "# 遇到的问题如下 神经网络的架构问题\n",
    "# 变量问题导致的变量冲突\n",
    "# 激活函数用错问题 在隐藏层用了sigmod激活函数，在输出层用了relu激活函数\n",
    "# 算法逻辑"
   ]
  }
 ],
 "metadata": {
  "kernelspec": {
   "display_name": "Python 3",
   "language": "python",
   "name": "python3"
  },
  "language_info": {
   "codemirror_mode": {
    "name": "ipython",
    "version": 3
   },
   "file_extension": ".py",
   "mimetype": "text/x-python",
   "name": "python",
   "nbconvert_exporter": "python",
   "pygments_lexer": "ipython3",
   "version": "3.7.6"
  },
  "nbTranslate": {
   "displayLangs": [
    "*"
   ],
   "hotkey": "alt-t",
   "langInMainMenu": true,
   "sourceLang": "en",
   "targetLang": "fr",
   "useGoogleTranslate": true
  },
  "toc": {
   "base_numbering": 1,
   "nav_menu": {},
   "number_sections": true,
   "sideBar": true,
   "skip_h1_title": false,
   "title_cell": "Table of Contents",
   "title_sidebar": "Contents",
   "toc_cell": false,
   "toc_position": {},
   "toc_section_display": true,
   "toc_window_display": false
  },
  "varInspector": {
   "cols": {
    "lenName": 16,
    "lenType": 16,
    "lenVar": 40
   },
   "kernels_config": {
    "python": {
     "delete_cmd_postfix": "",
     "delete_cmd_prefix": "del ",
     "library": "var_list.py",
     "varRefreshCmd": "print(var_dic_list())"
    },
    "r": {
     "delete_cmd_postfix": ") ",
     "delete_cmd_prefix": "rm(",
     "library": "var_list.r",
     "varRefreshCmd": "cat(var_dic_list()) "
    }
   },
   "types_to_exclude": [
    "module",
    "function",
    "builtin_function_or_method",
    "instance",
    "_Feature"
   ],
   "window_display": false
  }
 },
 "nbformat": 4,
 "nbformat_minor": 4
}
